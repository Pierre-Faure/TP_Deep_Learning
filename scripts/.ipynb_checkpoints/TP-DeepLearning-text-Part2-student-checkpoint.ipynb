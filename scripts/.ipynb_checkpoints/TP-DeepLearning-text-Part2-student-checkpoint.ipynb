{
 "cells": [
  {
   "cell_type": "markdown",
   "id": "9e92b29d",
   "metadata": {},
   "source": [
    "### TP Deep learning - Part 2\n",
    "\n",
    "We are now ready to dive into deep learning. \n",
    "You have two options : \n",
    "- Implement your own architecture with pytorch \n",
    "- Use a pre-train model from Hugging Face and fine-tune it onto your data. \n",
    "\n",
    "#### Option 1 \n",
    "In the first scenario, many architectures are available, among them \n",
    "- Word embedding + CNN (as presented bellow) \n",
    "- LSTM \n",
    "1. Do researches to understand the general mechanisms of the model you choose. Explain the model and propose a visualisation (similar to the figure bellow). Maximum 20 lines.\n",
    "\n",
    "2. Pre-processing : by nature, text cannot be directly feed to a neural network. Similarly than for the logistic regression, we first need to prepare the data. In our case, we will distinguish the following preprocessing steps\n",
    "    1. Load the data\n",
    "    2. Clean the data : lowercase the text and remove special symbol \n",
    "    3. Tokenize the text \n",
    "    4. Build the vocabulary \n",
    "    5. Padding \n",
    "    6. Split into train and test\n",
    "    \n",
    "Implement all these functions to prepare the data.\n",
    "\n",
    "3. Implement the architecture of your choice using pytorch. DO NOT only use Jupyter notebook. For this kind of project, jupyter notebook can be used to call the main function, but you have to organise your project with different .py modules. Again, make sure to comment properly your code. \n",
    "4. Train and evaluate your model using accuracy and f1 score. \n",
    "5. Tune two hyper-parameters of your choice. \n",
    "\n",
    "#### Option 2 \n",
    "Second option : choose a pre-trained model (we recommend BERT) and fine-tune it on your data. \n",
    "1. Do research and explain the basic mechanisms of the chosen pre-trained model. Maximum 20 lines. \n",
    "2. Explain the pre-processing required. \n",
    "3. Explain at least 2 different fine-tuning strategies and implement one. \n",
    "4. Tune two hyper-parameters of your choice. "
   ]
  },
  {
   "cell_type": "markdown",
   "id": "f9e5c801",
   "metadata": {},
   "source": [
    "There are multiple possible deep learning architectures for text classification. Here is an example for option 1?"
   ]
  },
  {
   "cell_type": "code",
   "execution_count": 1,
   "id": "a58fcc9a",
   "metadata": {},
   "outputs": [
    {
     "data": {
      "text/html": [
       "<img src=\"../img/archi_cnn.jpeg\" width=\"600\" height=\"600\"/>"
      ],
      "text/plain": [
       "<IPython.core.display.Image object>"
      ]
     },
     "execution_count": 1,
     "metadata": {},
     "output_type": "execute_result"
    }
   ],
   "source": [
    "from IPython.display import Image\n",
    "Image(url= \"../img/archi_cnn.jpeg\", width=600, height=600)"
   ]
  },
  {
   "cell_type": "code",
   "execution_count": 2,
   "id": "6411c002",
   "metadata": {},
   "outputs": [
    {
     "data": {
      "text/html": [
       "<img src=\"../img/cnn-text-classification.jpg\" width=\"800\" height=\"800\"/>"
      ],
      "text/plain": [
       "<IPython.core.display.Image object>"
      ]
     },
     "execution_count": 2,
     "metadata": {},
     "output_type": "execute_result"
    }
   ],
   "source": [
    "from IPython.display import Image\n",
    "Image(url= \"../img/cnn-text-classification.jpg\", width=800, height=800)"
   ]
  },
  {
   "cell_type": "markdown",
   "id": "9fafd3ac",
   "metadata": {},
   "source": [
    "**IMPORTANT** \n",
    "The main code is executed in this notebook, however the classes and functions implemented are in separated files with the extension `.py` and will be imported. \n",
    "For instance you should have \n",
    "- 1 file with pre-processing function \n",
    "- 1 file with model definition \n",
    "- 1 file for running and evaluating the model"
   ]
  }
 ],
 "metadata": {
  "kernelspec": {
   "display_name": "TP_Deep_Learning_env",
   "language": "python",
   "name": "tp_deep_learning_env"
  },
  "language_info": {
   "codemirror_mode": {
    "name": "ipython",
    "version": 3
   },
   "file_extension": ".py",
   "mimetype": "text/x-python",
   "name": "python",
   "nbconvert_exporter": "python",
   "pygments_lexer": "ipython3",
   "version": "3.7.4"
  }
 },
 "nbformat": 4,
 "nbformat_minor": 5
}
